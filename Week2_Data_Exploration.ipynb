{
 "cells": [
  {
   "cell_type": "markdown",
   "id": "14d8f68b",
   "metadata": {},
   "source": [
    "# Week 2: Data Exploration Summary\n",
    "\n",
    "### Dataset: S&P 500 ESG Data\n",
    "\n",
    "This notebook explores a dataset of S&P 500 companies, containing financial information and key Environmental, Social, and Governance (ESG) metrics.\n",
    "\n",
    "The primary goal is to determine how many companies report their CO2 emissions, which is crucial for our Carbon Footprint Calculator project.\n",
    "\n",
    "### Key Findings:\n",
    "\n",
    "* **Total Companies in Dataset:** 11000\n",
    "* **Companies Missing Emissions Data:** 3300\n",
    "* **Percentage of Companies Missing Data:** 30.00%"
   ]
  },
  {
   "cell_type": "code",
   "execution_count": 5,
   "id": "7234b35b",
   "metadata": {},
   "outputs": [
    {
     "name": "stdout",
     "output_type": "stream",
     "text": [
      "✅ Dataset 'dataset_with_missing_emissions.csv' loaded successfully!\n",
      "\n",
      "--- Dataset Info (Columns, Nulls, Dtypes) ---\n",
      "<class 'pandas.core.frame.DataFrame'>\n",
      "RangeIndex: 11000 entries, 0 to 10999\n",
      "Data columns (total 16 columns):\n",
      " #   Column             Non-Null Count  Dtype  \n",
      "---  ------             --------------  -----  \n",
      " 0   CompanyID          11000 non-null  int64  \n",
      " 1   CompanyName        11000 non-null  object \n",
      " 2   Industry           11000 non-null  object \n",
      " 3   Region             11000 non-null  object \n",
      " 4   Year               11000 non-null  int64  \n",
      " 5   Revenue            11000 non-null  float64\n",
      " 6   ProfitMargin       11000 non-null  float64\n",
      " 7   MarketCap          11000 non-null  float64\n",
      " 8   GrowthRate         10000 non-null  float64\n",
      " 9   ESG_Overall        11000 non-null  float64\n",
      " 10  ESG_Environmental  11000 non-null  float64\n",
      " 11  ESG_Social         11000 non-null  float64\n",
      " 12  ESG_Governance     11000 non-null  float64\n",
      " 13  CarbonEmissions    7700 non-null   float64\n",
      " 14  WaterUsage         11000 non-null  float64\n",
      " 15  EnergyConsumption  11000 non-null  float64\n",
      "dtypes: float64(11), int64(2), object(3)\n",
      "memory usage: 1.3+ MB\n",
      "\n",
      "--- Missing Data Analysis ---\n",
      "The emissions column is named: 'CarbonEmissions'\n",
      "Total number of records in dataset: 11000\n",
      "Number of records MISSING emissions data: 3300\n",
      "Percentage of records MISSING emissions data: 30.00%\n"
     ]
    }
   ],
   "source": [
    "import pandas as pd\n",
    "\n",
    "# --- 1. Load the Dataset (The Smart Way) ---\n",
    "try:\n",
    "    file_name = 'dataset_with_missing_emissions.csv'\n",
    "    \n",
    "    # 💡 FIX: We add `na_values` to tell Pandas that empty strings should be treated as missing (NaN).\n",
    "    df = pd.read_csv(file_name, na_values=['', ' ', 'N/A', 'null'])\n",
    "    \n",
    "    # 💡 NEW: We also convert the column to numbers, forcing any non-numeric values to become missing (NaN).\n",
    "    df['CarbonEmissions'] = pd.to_numeric(df['CarbonEmissions'], errors='coerce')\n",
    "\n",
    "    print(f\"✅ Dataset '{file_name}' loaded successfully!\")\n",
    "\n",
    "except FileNotFoundError:\n",
    "    print(f\"❌ Error: Make sure '{file_name}' is in your CarbonProject folder.\")\n",
    "    exit()\n",
    "\n",
    "# --- 2. Initial Exploration ---\n",
    "print(\"\\n--- Dataset Info (Columns, Nulls, Dtypes) ---\")\n",
    "# Now, the Dtype for CarbonEmissions should be float64\n",
    "df.info()\n",
    "\n",
    "# --- 3. Check for Missing Data (This will work correctly now) ---\n",
    "emissions_column = 'CarbonEmissions'\n",
    "missing_emissions_count = df[emissions_column].isnull().sum()\n",
    "total_rows = len(df)\n",
    "\n",
    "if total_rows > 0:\n",
    "    percentage_missing = (missing_emissions_count / total_rows) * 100\n",
    "else:\n",
    "    percentage_missing = 0\n",
    "\n",
    "# --- 4. Print the Final Report ---\n",
    "print(\"\\n--- Missing Data Analysis ---\")\n",
    "print(f\"The emissions column is named: '{emissions_column}'\")\n",
    "print(f\"Total number of records in dataset: {total_rows}\")\n",
    "print(f\"Number of records MISSING emissions data: {missing_emissions_count}\")\n",
    "print(f\"Percentage of records MISSING emissions data: {percentage_missing:.2f}%\")"
   ]
  },
  {
   "cell_type": "code",
   "execution_count": null,
   "id": "bc5965f8",
   "metadata": {},
   "outputs": [],
   "source": []
  }
 ],
 "metadata": {
  "kernelspec": {
   "display_name": "base",
   "language": "python",
   "name": "python3"
  },
  "language_info": {
   "codemirror_mode": {
    "name": "ipython",
    "version": 3
   },
   "file_extension": ".py",
   "mimetype": "text/x-python",
   "name": "python",
   "nbconvert_exporter": "python",
   "pygments_lexer": "ipython3",
   "version": "3.13.5"
  }
 },
 "nbformat": 4,
 "nbformat_minor": 5
}
