{
 "cells": [
  {
   "cell_type": "code",
   "execution_count": 1,
   "id": "6a810490",
   "metadata": {},
   "outputs": [
    {
     "name": "stdout",
     "output_type": "stream",
     "text": [
      "✅ Original dataset 'company_esg_financial_dataset.csv' loaded successfully with 11000 rows.\n",
      "✅ Removed emissions data from 3300 random rows.\n",
      "\n",
      "🎉 Success! A new file named 'dataset_with_missing_emissions.csv' has been created.\n",
      "Please use THIS file for your Week 3 model building.\n",
      "\n",
      "--- Verifying the new file ---\n",
      "The new file now has 3300 missing emission values.\n"
     ]
    }
   ],
   "source": [
    "import pandas as pd\n",
    "import numpy as np\n",
    "\n",
    "# --- 1. Load the Clean Dataset ---\n",
    "try:\n",
    "    file_name = 'company_esg_financial_dataset.csv'\n",
    "    df = pd.read_csv(file_name)\n",
    "    print(f\"✅ Original dataset '{file_name}' loaded successfully with {len(df)} rows.\")\n",
    "except FileNotFoundError:\n",
    "    print(f\"❌ Error: Make sure '{file_name}' is in your CarbonProject folder.\")\n",
    "    exit()\n",
    "\n",
    "\n",
    "# --- 2. Artificially Remove Data ---\n",
    "\n",
    "# We will randomly set 30% of the CarbonEmissions data to 'NaN' (Not a Number),\n",
    "# which is Pandas' standard marker for missing data.\n",
    "# The 'frac=0.30' means we are selecting 30% of the rows.\n",
    "rows_to_remove = df.sample(frac=0.30, random_state=42).index\n",
    "\n",
    "# Use .loc to select the specific rows and the 'CarbonEmissions' column, and set them to NaN\n",
    "df.loc[rows_to_remove, 'CarbonEmissions'] = np.nan\n",
    "\n",
    "print(f\"✅ Removed emissions data from {len(rows_to_remove)} random rows.\")\n",
    "\n",
    "\n",
    "# --- 3. Save the New Dataset ---\n",
    "new_file_name = 'dataset_with_missing_emissions.csv'\n",
    "df.to_csv(new_file_name, index=False)\n",
    "\n",
    "print(f\"\\n🎉 Success! A new file named '{new_file_name}' has been created.\")\n",
    "print(\"Please use THIS file for your Week 3 model building.\")\n",
    "\n",
    "# --- 4. Verification (Optional but Recommended) ---\n",
    "print(\"\\n--- Verifying the new file ---\")\n",
    "new_df = pd.read_csv(new_file_name)\n",
    "missing_count = new_df['CarbonEmissions'].isnull().sum()\n",
    "print(f\"The new file now has {missing_count} missing emission values.\")"
   ]
  }
 ],
 "metadata": {
  "kernelspec": {
   "display_name": "base",
   "language": "python",
   "name": "python3"
  },
  "language_info": {
   "codemirror_mode": {
    "name": "ipython",
    "version": 3
   },
   "file_extension": ".py",
   "mimetype": "text/x-python",
   "name": "python",
   "nbconvert_exporter": "python",
   "pygments_lexer": "ipython3",
   "version": "3.13.5"
  }
 },
 "nbformat": 4,
 "nbformat_minor": 5
}
