{
 "cells": [
  {
   "cell_type": "code",
   "execution_count": 1,
   "id": "52a065c0-75a0-48f6-8a82-0f5ba2cfcc94",
   "metadata": {},
   "outputs": [
    {
     "name": "stdout",
     "output_type": "stream",
     "text": [
      "Successfully loaded portfolio.csv and prices.csv\n",
      "\n",
      "--- Final Portfolio Details ---\n",
      "  Ticker  Shares  Price  MarketValue\n",
      "0   AAPL     100  175.5      17550.0\n",
      "1   GOOG      50  140.2       7010.0\n",
      "2   MSFT      75  330.0      24750.0\n",
      "3   TSLA      30  250.1       7503.0\n",
      "\n",
      ">>> Total Portfolio Value: $56,813.00\n"
     ]
    }
   ],
   "source": [
    "# Import the pandas library, which is the standard tool for data analysis in Python\n",
    "import pandas as pd\n",
    "\n",
    "# --- 1. Read the CSV files ---\n",
    "# We load our portfolio and price data into pandas DataFrames.\n",
    "# A DataFrame is like a smart spreadsheet table inside Python.\n",
    "try:\n",
    "    portfolio_df = pd.read_csv('portfolio.csv')\n",
    "    prices_df = pd.read_csv('prices.csv')\n",
    "    print(\"Successfully loaded portfolio.csv and prices.csv\")\n",
    "except FileNotFoundError:\n",
    "    print(\"Error: Make sure 'portfolio.csv' and 'prices.csv' are in the same folder as this notebook.\")\n",
    "    # We stop the script if the files aren't found to avoid further errors.\n",
    "    exit()\n",
    "\n",
    "# --- 2. Merge the DataFrames ---\n",
    "# We merge the two tables together using the 'Ticker' column as the common link.\n",
    "# This adds the 'Price' information to our main portfolio table.\n",
    "merged_df = pd.merge(portfolio_df, prices_df, on='Ticker')\n",
    "\n",
    "# --- 3. Calculate the Market Value ---\n",
    "# We create a new column called 'MarketValue'.\n",
    "# For each row, it multiplies the value in the 'Shares' column by the value in the 'Price' column.\n",
    "merged_df['MarketValue'] = merged_df['Shares'] * merged_df['Price']\n",
    "\n",
    "# --- 4. Calculate the Total Portfolio Value ---\n",
    "# We sum up all the individual values in the 'MarketValue' column to get the final total.\n",
    "total_portfolio_value = merged_df['MarketValue'].sum()\n",
    "\n",
    "# --- 5. Print the Results ---\n",
    "# Display the final merged table with the new MarketValue column\n",
    "print(\"\\n--- Final Portfolio Details ---\")\n",
    "print(merged_df)\n",
    "\n",
    "# Print the total value in a clean, easy-to-read format.\n",
    "# The f-string (f\"...\") lets us easily include variables inside the text.\n",
    "# The :.2f formats the number to two decimal places, like currency.\n",
    "# The comma adds a thousands separator.\n",
    "print(f\"\\n>>> Total Portfolio Value: ${total_portfolio_value:,.2f}\")"
   ]
  }
 ],
 "metadata": {
  "kernelspec": {
   "display_name": "base",
   "language": "python",
   "name": "python3"
  },
  "language_info": {
   "codemirror_mode": {
    "name": "ipython",
    "version": 3
   },
   "file_extension": ".py",
   "mimetype": "text/x-python",
   "name": "python",
   "nbconvert_exporter": "python",
   "pygments_lexer": "ipython3",
   "version": "3.13.5"
  }
 },
 "nbformat": 4,
 "nbformat_minor": 5
}
